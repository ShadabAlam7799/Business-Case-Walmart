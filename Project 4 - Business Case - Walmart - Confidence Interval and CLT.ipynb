{
 "cells": [
  {
   "cell_type": "markdown",
   "id": "1d991872",
   "metadata": {},
   "source": [
    "# Walmart Case Study"
   ]
  },
  {
   "cell_type": "code",
   "execution_count": 2,
   "id": "877a81a2",
   "metadata": {},
   "outputs": [],
   "source": [
    "import pandas as pd\n",
    "import numpy as np\n",
    "import matplotlib.pyplot as plt\n",
    "import seaborn as sns\n",
    "import math, random\n",
    "from scipy.stats import binom\n",
    "from scipy.stats import norm"
   ]
  },
  {
   "cell_type": "code",
   "execution_count": 3,
   "id": "bcad7bc2",
   "metadata": {},
   "outputs": [],
   "source": [
    "Data = pd.read_csv(\"D:\\Python programmes\\Data Collection\\walmart_data.csv\")"
   ]
  },
  {
   "cell_type": "code",
   "execution_count": 4,
   "id": "a07c0ccc",
   "metadata": {},
   "outputs": [],
   "source": [
    "df = Data.copy(deep=True)"
   ]
  },
  {
   "cell_type": "code",
   "execution_count": 5,
   "id": "5508278a",
   "metadata": {},
   "outputs": [
    {
     "data": {
      "text/html": [
       "<div>\n",
       "<style scoped>\n",
       "    .dataframe tbody tr th:only-of-type {\n",
       "        vertical-align: middle;\n",
       "    }\n",
       "\n",
       "    .dataframe tbody tr th {\n",
       "        vertical-align: top;\n",
       "    }\n",
       "\n",
       "    .dataframe thead th {\n",
       "        text-align: right;\n",
       "    }\n",
       "</style>\n",
       "<table border=\"1\" class=\"dataframe\">\n",
       "  <thead>\n",
       "    <tr style=\"text-align: right;\">\n",
       "      <th></th>\n",
       "      <th>User_ID</th>\n",
       "      <th>Product_ID</th>\n",
       "      <th>Gender</th>\n",
       "      <th>Age</th>\n",
       "      <th>Occupation</th>\n",
       "      <th>City_Category</th>\n",
       "      <th>Stay_In_Current_City_Years</th>\n",
       "      <th>Marital_Status</th>\n",
       "      <th>Product_Category</th>\n",
       "      <th>Purchase</th>\n",
       "    </tr>\n",
       "  </thead>\n",
       "  <tbody>\n",
       "    <tr>\n",
       "      <th>0</th>\n",
       "      <td>1000001</td>\n",
       "      <td>P00069042</td>\n",
       "      <td>F</td>\n",
       "      <td>0-17</td>\n",
       "      <td>10</td>\n",
       "      <td>A</td>\n",
       "      <td>2</td>\n",
       "      <td>0</td>\n",
       "      <td>3</td>\n",
       "      <td>8370</td>\n",
       "    </tr>\n",
       "    <tr>\n",
       "      <th>1</th>\n",
       "      <td>1000001</td>\n",
       "      <td>P00248942</td>\n",
       "      <td>F</td>\n",
       "      <td>0-17</td>\n",
       "      <td>10</td>\n",
       "      <td>A</td>\n",
       "      <td>2</td>\n",
       "      <td>0</td>\n",
       "      <td>1</td>\n",
       "      <td>15200</td>\n",
       "    </tr>\n",
       "    <tr>\n",
       "      <th>2</th>\n",
       "      <td>1000001</td>\n",
       "      <td>P00087842</td>\n",
       "      <td>F</td>\n",
       "      <td>0-17</td>\n",
       "      <td>10</td>\n",
       "      <td>A</td>\n",
       "      <td>2</td>\n",
       "      <td>0</td>\n",
       "      <td>12</td>\n",
       "      <td>1422</td>\n",
       "    </tr>\n",
       "    <tr>\n",
       "      <th>3</th>\n",
       "      <td>1000001</td>\n",
       "      <td>P00085442</td>\n",
       "      <td>F</td>\n",
       "      <td>0-17</td>\n",
       "      <td>10</td>\n",
       "      <td>A</td>\n",
       "      <td>2</td>\n",
       "      <td>0</td>\n",
       "      <td>12</td>\n",
       "      <td>1057</td>\n",
       "    </tr>\n",
       "    <tr>\n",
       "      <th>4</th>\n",
       "      <td>1000002</td>\n",
       "      <td>P00285442</td>\n",
       "      <td>M</td>\n",
       "      <td>55+</td>\n",
       "      <td>16</td>\n",
       "      <td>C</td>\n",
       "      <td>4+</td>\n",
       "      <td>0</td>\n",
       "      <td>8</td>\n",
       "      <td>7969</td>\n",
       "    </tr>\n",
       "  </tbody>\n",
       "</table>\n",
       "</div>"
      ],
      "text/plain": [
       "   User_ID Product_ID Gender   Age  Occupation City_Category  \\\n",
       "0  1000001  P00069042      F  0-17          10             A   \n",
       "1  1000001  P00248942      F  0-17          10             A   \n",
       "2  1000001  P00087842      F  0-17          10             A   \n",
       "3  1000001  P00085442      F  0-17          10             A   \n",
       "4  1000002  P00285442      M   55+          16             C   \n",
       "\n",
       "  Stay_In_Current_City_Years  Marital_Status  Product_Category  Purchase  \n",
       "0                          2               0                 3      8370  \n",
       "1                          2               0                 1     15200  \n",
       "2                          2               0                12      1422  \n",
       "3                          2               0                12      1057  \n",
       "4                         4+               0                 8      7969  "
      ]
     },
     "execution_count": 5,
     "metadata": {},
     "output_type": "execute_result"
    }
   ],
   "source": [
    "df.head()"
   ]
  },
  {
   "cell_type": "markdown",
   "id": "4decf664",
   "metadata": {},
   "source": [
    "- User_ID:\tUser ID\n",
    "- Product_ID:\tProduct ID\n",
    "- Gender:\tSex of User\n",
    "- Age:\tAge in bins\n",
    "- Occupation:\tOccupation(Masked)\n",
    "- City_Category:\tCategory of the City (A,B,C)\n",
    "- StayInCurrentCityYears:\tNumber of years stay in current city\n",
    "- Marital_Status:\tMarital Status\n",
    "- ProductCategory:\tProduct Category (Masked)\n",
    "- Purchase:\tPurchase Amount"
   ]
  },
  {
   "cell_type": "code",
   "execution_count": 6,
   "id": "936f1085",
   "metadata": {},
   "outputs": [
    {
     "data": {
      "text/plain": [
       "5     150933\n",
       "1     140378\n",
       "8     113925\n",
       "11     24287\n",
       "2      23864\n",
       "6      20466\n",
       "3      20213\n",
       "4      11753\n",
       "16      9828\n",
       "15      6290\n",
       "13      5549\n",
       "10      5125\n",
       "12      3947\n",
       "7       3721\n",
       "18      3125\n",
       "20      2550\n",
       "19      1603\n",
       "14      1523\n",
       "17       578\n",
       "9        410\n",
       "Name: Product_Category, dtype: int64"
      ]
     },
     "execution_count": 6,
     "metadata": {},
     "output_type": "execute_result"
    }
   ],
   "source": [
    "df[\"Product_Category\"].value_counts()"
   ]
  },
  {
   "cell_type": "code",
   "execution_count": 7,
   "id": "5e3ca0a4",
   "metadata": {},
   "outputs": [
    {
     "data": {
      "text/plain": [
       "<pandas.core.groupby.generic.DataFrameGroupBy object at 0x0000005D256A9AF0>"
      ]
     },
     "execution_count": 7,
     "metadata": {},
     "output_type": "execute_result"
    }
   ],
   "source": [
    "df.groupby(\"User_ID\")"
   ]
  },
  {
   "cell_type": "markdown",
   "id": "ec1e38d7",
   "metadata": {},
   "source": [
    "# Problem statements\n",
    " - <strong>1. Are women spending more money per transaction than men? Why or Why not?</strong>\n",
    " - <strong>2. Confidence intervals and distribution of the mean of the expenses by female and male customers</strong>\n",
    " - <strong>3. Are confidence intervals of average male and female spending overlapping? How can Walmart leverage this conclusion to make changes or improvements?</strong>\n",
    " - <strong>4. Analysis on Married vs Unmarried</strong>"
   ]
  },
  {
   "cell_type": "markdown",
   "id": "b09a6e46",
   "metadata": {},
   "source": [
    "# 1. Analyzing basic metrics"
   ]
  },
  {
   "cell_type": "markdown",
   "id": "d6c6f95f",
   "metadata": {},
   "source": [
    "Observations on shape of data, data types of all the attributes, conversion of categorical attributes to 'category' (If required), statistical summary<bbr>\n",
    "Non-Graphical Analysis: Value counts and unique attributes<br>\n",
    "Visual Analysis - Univariate & Bivariate<br>\n",
    "For continuous variable(s): Distplot, countplot, histogram for univariate analysis<br>\n",
    "For categorical variable(s): Boxplot<br>\n",
    "For correlation: Heatmaps, Pairplots<br>"
   ]
  },
  {
   "cell_type": "markdown",
   "id": "5f73edc4",
   "metadata": {},
   "source": [
    "### Observations on shape of data, data types of all the attributes, conversion of categorical attributes to 'category' (If required), statistical summary"
   ]
  },
  {
   "cell_type": "markdown",
   "id": "96bc91a3",
   "metadata": {},
   "source": [
    "#### shape of data"
   ]
  },
  {
   "cell_type": "code",
   "execution_count": 8,
   "id": "7fabfa96",
   "metadata": {},
   "outputs": [
    {
     "data": {
      "text/plain": [
       "(550068, 10)"
      ]
     },
     "execution_count": 8,
     "metadata": {},
     "output_type": "execute_result"
    }
   ],
   "source": [
    "df.shape"
   ]
  },
  {
   "cell_type": "markdown",
   "id": "97a8f539",
   "metadata": {},
   "source": [
    "#### data type of all attributes"
   ]
  },
  {
   "cell_type": "code",
   "execution_count": 9,
   "id": "e8fe5dfd",
   "metadata": {},
   "outputs": [
    {
     "name": "stdout",
     "output_type": "stream",
     "text": [
      "<class 'pandas.core.frame.DataFrame'>\n",
      "RangeIndex: 550068 entries, 0 to 550067\n",
      "Data columns (total 10 columns):\n",
      " #   Column                      Non-Null Count   Dtype \n",
      "---  ------                      --------------   ----- \n",
      " 0   User_ID                     550068 non-null  int64 \n",
      " 1   Product_ID                  550068 non-null  object\n",
      " 2   Gender                      550068 non-null  object\n",
      " 3   Age                         550068 non-null  object\n",
      " 4   Occupation                  550068 non-null  int64 \n",
      " 5   City_Category               550068 non-null  object\n",
      " 6   Stay_In_Current_City_Years  550068 non-null  object\n",
      " 7   Marital_Status              550068 non-null  int64 \n",
      " 8   Product_Category            550068 non-null  int64 \n",
      " 9   Purchase                    550068 non-null  int64 \n",
      "dtypes: int64(5), object(5)\n",
      "memory usage: 42.0+ MB\n"
     ]
    }
   ],
   "source": [
    "df.info()"
   ]
  },
  {
   "cell_type": "markdown",
   "id": "12ef4dda",
   "metadata": {},
   "source": [
    "#### changing data type"
   ]
  },
  {
   "cell_type": "code",
   "execution_count": 10,
   "id": "f9e019cf",
   "metadata": {},
   "outputs": [],
   "source": [
    "df[\"Occupation\"]=df[\"Occupation\"].apply(lambda x: str(x))"
   ]
  },
  {
   "cell_type": "code",
   "execution_count": 11,
   "id": "93301644",
   "metadata": {},
   "outputs": [],
   "source": [
    "df[\"Marital_Status\"]=df[\"Marital_Status\"].astype(\"str\")"
   ]
  },
  {
   "cell_type": "code",
   "execution_count": 12,
   "id": "c8f1dcfa",
   "metadata": {},
   "outputs": [],
   "source": [
    "df[\"Product_Category\"]=df[\"Product_Category\"].astype(\"str\")"
   ]
  },
  {
   "cell_type": "code",
   "execution_count": 13,
   "id": "55a590ef",
   "metadata": {},
   "outputs": [
    {
     "name": "stdout",
     "output_type": "stream",
     "text": [
      "<class 'pandas.core.frame.DataFrame'>\n",
      "RangeIndex: 550068 entries, 0 to 550067\n",
      "Data columns (total 10 columns):\n",
      " #   Column                      Non-Null Count   Dtype \n",
      "---  ------                      --------------   ----- \n",
      " 0   User_ID                     550068 non-null  int64 \n",
      " 1   Product_ID                  550068 non-null  object\n",
      " 2   Gender                      550068 non-null  object\n",
      " 3   Age                         550068 non-null  object\n",
      " 4   Occupation                  550068 non-null  object\n",
      " 5   City_Category               550068 non-null  object\n",
      " 6   Stay_In_Current_City_Years  550068 non-null  object\n",
      " 7   Marital_Status              550068 non-null  object\n",
      " 8   Product_Category            550068 non-null  object\n",
      " 9   Purchase                    550068 non-null  int64 \n",
      "dtypes: int64(2), object(8)\n",
      "memory usage: 42.0+ MB\n"
     ]
    }
   ],
   "source": [
    "df.info()"
   ]
  },
  {
   "cell_type": "markdown",
   "id": "815d5c2d",
   "metadata": {},
   "source": [
    "#### checking any missing/null values"
   ]
  },
  {
   "cell_type": "code",
   "execution_count": 14,
   "id": "818bb86a",
   "metadata": {},
   "outputs": [
    {
     "data": {
      "text/plain": [
       "User_ID                       0\n",
       "Product_ID                    0\n",
       "Gender                        0\n",
       "Age                           0\n",
       "Occupation                    0\n",
       "City_Category                 0\n",
       "Stay_In_Current_City_Years    0\n",
       "Marital_Status                0\n",
       "Product_Category              0\n",
       "Purchase                      0\n",
       "dtype: int64"
      ]
     },
     "execution_count": 14,
     "metadata": {},
     "output_type": "execute_result"
    }
   ],
   "source": [
    "df.isnull().sum()"
   ]
  },
  {
   "cell_type": "markdown",
   "id": "4c49d784",
   "metadata": {},
   "source": [
    "#### checking any duplicate rows"
   ]
  },
  {
   "cell_type": "code",
   "execution_count": 15,
   "id": "19b30903",
   "metadata": {},
   "outputs": [
    {
     "data": {
      "text/plain": [
       "0"
      ]
     },
     "execution_count": 15,
     "metadata": {},
     "output_type": "execute_result"
    }
   ],
   "source": [
    "df.duplicated().sum()"
   ]
  },
  {
   "cell_type": "code",
   "execution_count": 16,
   "id": "26ee850a",
   "metadata": {},
   "outputs": [
    {
     "data": {
      "text/html": [
       "<div>\n",
       "<style scoped>\n",
       "    .dataframe tbody tr th:only-of-type {\n",
       "        vertical-align: middle;\n",
       "    }\n",
       "\n",
       "    .dataframe tbody tr th {\n",
       "        vertical-align: top;\n",
       "    }\n",
       "\n",
       "    .dataframe thead th {\n",
       "        text-align: right;\n",
       "    }\n",
       "</style>\n",
       "<table border=\"1\" class=\"dataframe\">\n",
       "  <thead>\n",
       "    <tr style=\"text-align: right;\">\n",
       "      <th></th>\n",
       "      <th>User_ID</th>\n",
       "      <th>Product_ID</th>\n",
       "      <th>Gender</th>\n",
       "      <th>Age</th>\n",
       "      <th>Occupation</th>\n",
       "      <th>City_Category</th>\n",
       "      <th>Stay_In_Current_City_Years</th>\n",
       "      <th>Marital_Status</th>\n",
       "      <th>Product_Category</th>\n",
       "      <th>Purchase</th>\n",
       "    </tr>\n",
       "  </thead>\n",
       "  <tbody>\n",
       "    <tr>\n",
       "      <th>0</th>\n",
       "      <td>1000001</td>\n",
       "      <td>P00069042</td>\n",
       "      <td>F</td>\n",
       "      <td>0-17</td>\n",
       "      <td>10</td>\n",
       "      <td>A</td>\n",
       "      <td>2</td>\n",
       "      <td>0</td>\n",
       "      <td>3</td>\n",
       "      <td>8370</td>\n",
       "    </tr>\n",
       "    <tr>\n",
       "      <th>1</th>\n",
       "      <td>1000001</td>\n",
       "      <td>P00248942</td>\n",
       "      <td>F</td>\n",
       "      <td>0-17</td>\n",
       "      <td>10</td>\n",
       "      <td>A</td>\n",
       "      <td>2</td>\n",
       "      <td>0</td>\n",
       "      <td>1</td>\n",
       "      <td>15200</td>\n",
       "    </tr>\n",
       "  </tbody>\n",
       "</table>\n",
       "</div>"
      ],
      "text/plain": [
       "   User_ID Product_ID Gender   Age Occupation City_Category  \\\n",
       "0  1000001  P00069042      F  0-17         10             A   \n",
       "1  1000001  P00248942      F  0-17         10             A   \n",
       "\n",
       "  Stay_In_Current_City_Years Marital_Status Product_Category  Purchase  \n",
       "0                          2              0                3      8370  \n",
       "1                          2              0                1     15200  "
      ]
     },
     "execution_count": 16,
     "metadata": {},
     "output_type": "execute_result"
    }
   ],
   "source": [
    "df.head(2)"
   ]
  },
  {
   "cell_type": "markdown",
   "id": "16f0c846",
   "metadata": {},
   "source": [
    "### Non-Graphical Analysis: Value counts and unique attributes"
   ]
  },
  {
   "cell_type": "markdown",
   "id": "26e7623b",
   "metadata": {},
   "source": [
    "#### objects count and checking unique items"
   ]
  },
  {
   "cell_type": "code",
   "execution_count": 17,
   "id": "f76d38e3",
   "metadata": {},
   "outputs": [
    {
     "data": {
      "text/html": [
       "<div>\n",
       "<style scoped>\n",
       "    .dataframe tbody tr th:only-of-type {\n",
       "        vertical-align: middle;\n",
       "    }\n",
       "\n",
       "    .dataframe tbody tr th {\n",
       "        vertical-align: top;\n",
       "    }\n",
       "\n",
       "    .dataframe thead th {\n",
       "        text-align: right;\n",
       "    }\n",
       "</style>\n",
       "<table border=\"1\" class=\"dataframe\">\n",
       "  <thead>\n",
       "    <tr style=\"text-align: right;\">\n",
       "      <th></th>\n",
       "      <th>Product_ID</th>\n",
       "      <th>Gender</th>\n",
       "      <th>Age</th>\n",
       "      <th>Occupation</th>\n",
       "      <th>City_Category</th>\n",
       "      <th>Stay_In_Current_City_Years</th>\n",
       "      <th>Marital_Status</th>\n",
       "      <th>Product_Category</th>\n",
       "    </tr>\n",
       "  </thead>\n",
       "  <tbody>\n",
       "    <tr>\n",
       "      <th>count</th>\n",
       "      <td>550068</td>\n",
       "      <td>550068</td>\n",
       "      <td>550068</td>\n",
       "      <td>550068</td>\n",
       "      <td>550068</td>\n",
       "      <td>550068</td>\n",
       "      <td>550068</td>\n",
       "      <td>550068</td>\n",
       "    </tr>\n",
       "    <tr>\n",
       "      <th>unique</th>\n",
       "      <td>3631</td>\n",
       "      <td>2</td>\n",
       "      <td>7</td>\n",
       "      <td>21</td>\n",
       "      <td>3</td>\n",
       "      <td>5</td>\n",
       "      <td>2</td>\n",
       "      <td>20</td>\n",
       "    </tr>\n",
       "    <tr>\n",
       "      <th>top</th>\n",
       "      <td>P00265242</td>\n",
       "      <td>M</td>\n",
       "      <td>26-35</td>\n",
       "      <td>4</td>\n",
       "      <td>B</td>\n",
       "      <td>1</td>\n",
       "      <td>0</td>\n",
       "      <td>5</td>\n",
       "    </tr>\n",
       "    <tr>\n",
       "      <th>freq</th>\n",
       "      <td>1880</td>\n",
       "      <td>414259</td>\n",
       "      <td>219587</td>\n",
       "      <td>72308</td>\n",
       "      <td>231173</td>\n",
       "      <td>193821</td>\n",
       "      <td>324731</td>\n",
       "      <td>150933</td>\n",
       "    </tr>\n",
       "  </tbody>\n",
       "</table>\n",
       "</div>"
      ],
      "text/plain": [
       "       Product_ID  Gender     Age Occupation City_Category  \\\n",
       "count      550068  550068  550068     550068        550068   \n",
       "unique       3631       2       7         21             3   \n",
       "top     P00265242       M   26-35          4             B   \n",
       "freq         1880  414259  219587      72308        231173   \n",
       "\n",
       "       Stay_In_Current_City_Years Marital_Status Product_Category  \n",
       "count                      550068         550068           550068  \n",
       "unique                          5              2               20  \n",
       "top                             1              0                5  \n",
       "freq                       193821         324731           150933  "
      ]
     },
     "execution_count": 17,
     "metadata": {},
     "output_type": "execute_result"
    }
   ],
   "source": [
    "df.describe(include=\"object\")"
   ]
  },
  {
   "cell_type": "markdown",
   "id": "e818ab0c",
   "metadata": {},
   "source": [
    "#### value counts"
   ]
  },
  {
   "cell_type": "code",
   "execution_count": 18,
   "id": "c99e5a6f",
   "metadata": {},
   "outputs": [
    {
     "data": {
      "text/plain": [
       "M    414259\n",
       "F    135809\n",
       "Name: Gender, dtype: int64"
      ]
     },
     "execution_count": 18,
     "metadata": {},
     "output_type": "execute_result"
    }
   ],
   "source": [
    "df[\"Gender\"].value_counts()"
   ]
  },
  {
   "cell_type": "code",
   "execution_count": 19,
   "id": "1e805082",
   "metadata": {},
   "outputs": [
    {
     "data": {
      "text/plain": [
       "26-35    219587\n",
       "36-45    110013\n",
       "18-25     99660\n",
       "46-50     45701\n",
       "51-55     38501\n",
       "55+       21504\n",
       "0-17      15102\n",
       "Name: Age, dtype: int64"
      ]
     },
     "execution_count": 19,
     "metadata": {},
     "output_type": "execute_result"
    }
   ],
   "source": [
    "df[\"Age\"].value_counts()"
   ]
  },
  {
   "cell_type": "code",
   "execution_count": 20,
   "id": "1d20f51d",
   "metadata": {},
   "outputs": [
    {
     "data": {
      "text/plain": [
       "B    231173\n",
       "C    171175\n",
       "A    147720\n",
       "Name: City_Category, dtype: int64"
      ]
     },
     "execution_count": 20,
     "metadata": {},
     "output_type": "execute_result"
    }
   ],
   "source": [
    "df[\"City_Category\"].value_counts()"
   ]
  },
  {
   "cell_type": "code",
   "execution_count": 21,
   "id": "dbddd580",
   "metadata": {},
   "outputs": [
    {
     "data": {
      "text/plain": [
       "1     193821\n",
       "2     101838\n",
       "3      95285\n",
       "4+     84726\n",
       "0      74398\n",
       "Name: Stay_In_Current_City_Years, dtype: int64"
      ]
     },
     "execution_count": 21,
     "metadata": {},
     "output_type": "execute_result"
    }
   ],
   "source": [
    "df[\"Stay_In_Current_City_Years\"].value_counts()"
   ]
  },
  {
   "cell_type": "code",
   "execution_count": 22,
   "id": "6e0beda7",
   "metadata": {},
   "outputs": [
    {
     "data": {
      "text/plain": [
       "0    324731\n",
       "1    225337\n",
       "Name: Marital_Status, dtype: int64"
      ]
     },
     "execution_count": 22,
     "metadata": {},
     "output_type": "execute_result"
    }
   ],
   "source": [
    "df[\"Marital_Status\"].value_counts()"
   ]
  },
  {
   "cell_type": "code",
   "execution_count": 23,
   "id": "b2743704",
   "metadata": {},
   "outputs": [
    {
     "data": {
      "text/plain": [
       "4     72308\n",
       "0     69638\n",
       "7     59133\n",
       "1     47426\n",
       "17    40043\n",
       "20    33562\n",
       "12    31179\n",
       "14    27309\n",
       "2     26588\n",
       "16    25371\n",
       "Name: Occupation, dtype: int64"
      ]
     },
     "execution_count": 23,
     "metadata": {},
     "output_type": "execute_result"
    }
   ],
   "source": [
    "df[\"Occupation\"].value_counts()[:10]  #Top 10"
   ]
  },
  {
   "cell_type": "markdown",
   "id": "bab2737e",
   "metadata": {},
   "source": [
    "### Checking outliers"
   ]
  },
  {
   "cell_type": "code",
   "execution_count": 24,
   "id": "e75fa4f9",
   "metadata": {},
   "outputs": [
    {
     "data": {
      "text/html": [
       "<div>\n",
       "<style scoped>\n",
       "    .dataframe tbody tr th:only-of-type {\n",
       "        vertical-align: middle;\n",
       "    }\n",
       "\n",
       "    .dataframe tbody tr th {\n",
       "        vertical-align: top;\n",
       "    }\n",
       "\n",
       "    .dataframe thead th {\n",
       "        text-align: right;\n",
       "    }\n",
       "</style>\n",
       "<table border=\"1\" class=\"dataframe\">\n",
       "  <thead>\n",
       "    <tr style=\"text-align: right;\">\n",
       "      <th></th>\n",
       "      <th>User_ID</th>\n",
       "      <th>Purchase</th>\n",
       "    </tr>\n",
       "  </thead>\n",
       "  <tbody>\n",
       "    <tr>\n",
       "      <th>count</th>\n",
       "      <td>5.500680e+05</td>\n",
       "      <td>550068.000000</td>\n",
       "    </tr>\n",
       "    <tr>\n",
       "      <th>mean</th>\n",
       "      <td>1.003029e+06</td>\n",
       "      <td>9263.968713</td>\n",
       "    </tr>\n",
       "    <tr>\n",
       "      <th>std</th>\n",
       "      <td>1.727592e+03</td>\n",
       "      <td>5023.065394</td>\n",
       "    </tr>\n",
       "    <tr>\n",
       "      <th>min</th>\n",
       "      <td>1.000001e+06</td>\n",
       "      <td>12.000000</td>\n",
       "    </tr>\n",
       "    <tr>\n",
       "      <th>25%</th>\n",
       "      <td>1.001516e+06</td>\n",
       "      <td>5823.000000</td>\n",
       "    </tr>\n",
       "    <tr>\n",
       "      <th>50%</th>\n",
       "      <td>1.003077e+06</td>\n",
       "      <td>8047.000000</td>\n",
       "    </tr>\n",
       "    <tr>\n",
       "      <th>75%</th>\n",
       "      <td>1.004478e+06</td>\n",
       "      <td>12054.000000</td>\n",
       "    </tr>\n",
       "    <tr>\n",
       "      <th>max</th>\n",
       "      <td>1.006040e+06</td>\n",
       "      <td>23961.000000</td>\n",
       "    </tr>\n",
       "  </tbody>\n",
       "</table>\n",
       "</div>"
      ],
      "text/plain": [
       "            User_ID       Purchase\n",
       "count  5.500680e+05  550068.000000\n",
       "mean   1.003029e+06    9263.968713\n",
       "std    1.727592e+03    5023.065394\n",
       "min    1.000001e+06      12.000000\n",
       "25%    1.001516e+06    5823.000000\n",
       "50%    1.003077e+06    8047.000000\n",
       "75%    1.004478e+06   12054.000000\n",
       "max    1.006040e+06   23961.000000"
      ]
     },
     "execution_count": 24,
     "metadata": {},
     "output_type": "execute_result"
    }
   ],
   "source": [
    "df.describe()"
   ]
  },
  {
   "cell_type": "code",
   "execution_count": 25,
   "id": "58760166",
   "metadata": {},
   "outputs": [
    {
     "data": {
      "text/plain": [
       "<AxesSubplot:xlabel='Purchase'>"
      ]
     },
     "execution_count": 25,
     "metadata": {},
     "output_type": "execute_result"
    },
    {
     "data": {
      "image/png": "[encoded data removed]",
      "text/plain": [
       "<Figure size 1080x432 with 2 Axes>"
      ]
     },
     "metadata": {
      "needs_background": "light"
     },
     "output_type": "display_data"
    }
   ],
   "source": [
    "plt.figure(figsize=(15,6))\n",
    "plt.subplot(2,1,1)\n",
    "sns.histplot(data=df, x=\"Purchase\", bins=50, kde=True)\n",
    "plt.subplot(2,1,2)\n",
    "sns.boxplot(data=df, x=\"Purchase\")"
   ]
  },
  {
   "cell_type": "code",
   "execution_count": 26,
   "id": "d95ddc1b",
   "metadata": {},
   "outputs": [
    {
     "data": {
      "text/plain": [
       "6231.0"
      ]
     },
     "execution_count": 26,
     "metadata": {},
     "output_type": "execute_result"
    }
   ],
   "source": [
    "IQR=df[\"Purchase\"].quantile(0.75)-df[\"Purchase\"].quantile(0.25)\n",
    "IQR"
   ]
  },
  {
   "cell_type": "code",
   "execution_count": 27,
   "id": "ee7d60a6",
   "metadata": {},
   "outputs": [
    {
     "name": "stdout",
     "output_type": "stream",
     "text": [
      "LCV= -3523.5\n",
      "Q1= 5823.0\n",
      "Q2= 8047.0\n",
      "Q3= 12054.0\n",
      "UCV= 21400.5\n"
     ]
    }
   ],
   "source": [
    "LCV = df[\"Purchase\"].quantile(0.25)-1.5*IQR; Q1 = df[\"Purchase\"].quantile(0.25)\n",
    "Q2 = df[\"Purchase\"].quantile(0.50); Q3 = df[\"Purchase\"].quantile(0.75)\n",
    "UCV = df[\"Purchase\"].quantile(0.75)+1.5*IQR\n",
    "print(\"LCV=\",LCV);print(\"Q1=\",Q1);print(\"Q2=\",Q2);print(\"Q3=\",Q3);print(\"UCV=\",UCV)"
   ]
  },
  {
   "cell_type": "code",
   "execution_count": 28,
   "id": "0fd6bb6a",
   "metadata": {},
   "outputs": [
    {
     "data": {
      "text/plain": [
       "2677"
      ]
     },
     "execution_count": 28,
     "metadata": {},
     "output_type": "execute_result"
    }
   ],
   "source": [
    "len(df[(df[\"Purchase\"]>UCV)|(df[\"Purchase\"]<LCV)][\"Purchase\"])"
   ]
  },
  {
   "cell_type": "code",
   "execution_count": 29,
   "id": "15836daf",
   "metadata": {},
   "outputs": [
    {
     "data": {
      "text/plain": [
       "550068"
      ]
     },
     "execution_count": 29,
     "metadata": {},
     "output_type": "execute_result"
    }
   ],
   "source": [
    "len(df[\"Purchase\"])"
   ]
  },
  {
   "cell_type": "code",
   "execution_count": 30,
   "id": "87128925",
   "metadata": {},
   "outputs": [
    {
     "name": "stdout",
     "output_type": "stream",
     "text": [
      "0.4866671029763593 % outliers in purchase\n"
     ]
    }
   ],
   "source": [
    "# % of outlier\n",
    "X = (len(df[(df[\"Purchase\"]>UCV)|(df[\"Purchase\"]<LCV)][\"Purchase\"]))/len(df[\"Purchase\"])*100\n",
    "print(X,\"% outliers in purchase\")"
   ]
  },
  {
   "cell_type": "markdown",
   "id": "a09811e1",
   "metadata": {},
   "source": [
    "# Male vs Female"
   ]
  },
  {
   "cell_type": "code",
   "execution_count": 31,
   "id": "3e035dd6",
   "metadata": {},
   "outputs": [
    {
     "data": {
      "text/plain": [
       "<AxesSubplot:xlabel='Purchase', ylabel='Gender'>"
      ]
     },
     "execution_count": 31,
     "metadata": {},
     "output_type": "execute_result"
    },
    {
     "data": {
      "image/png": "[encoded data removed]",
      "text/plain": [
       "<Figure size 1080x432 with 2 Axes>"
      ]
     },
     "metadata": {
      "needs_background": "light"
     },
     "output_type": "display_data"
    }
   ],
   "source": [
    "plt.figure(figsize=(15,6))\n",
    "plt.subplot(2,1,1)\n",
    "sns.histplot(data=df, x=\"Purchase\", hue=\"Gender\", bins=50, kde=True)\n",
    "plt.subplot(2,1,2)\n",
    "sns.boxplot(data=df, x=\"Purchase\", y=\"Gender\")"
   ]
  },
  {
   "cell_type": "markdown",
   "id": "7bd3e556",
   "metadata": {},
   "source": [
    "## purchase data analysis"
   ]
  },
  {
   "cell_type": "markdown",
   "id": "5578645e",
   "metadata": {},
   "source": [
    "### purchase data analysis [ groupby user id and mean(purchase) ]"
   ]
  },
  {
   "cell_type": "code",
   "execution_count": 34,
   "id": "dc33cb55",
   "metadata": {
    "scrolled": true
   },
   "outputs": [
    {
     "data": {
      "text/html": [
       "<div>\n",
       "<style scoped>\n",
       "    .dataframe tbody tr th:only-of-type {\n",
       "        vertical-align: middle;\n",
       "    }\n",
       "\n",
       "    .dataframe tbody tr th {\n",
       "        vertical-align: top;\n",
       "    }\n",
       "\n",
       "    .dataframe thead th {\n",
       "        text-align: right;\n",
       "    }\n",
       "</style>\n",
       "<table border=\"1\" class=\"dataframe\">\n",
       "  <thead>\n",
       "    <tr style=\"text-align: right;\">\n",
       "      <th></th>\n",
       "      <th>User_ID</th>\n",
       "      <th>Product_ID</th>\n",
       "      <th>Gender</th>\n",
       "      <th>Age</th>\n",
       "      <th>Occupation</th>\n",
       "      <th>City_Category</th>\n",
       "      <th>Stay_In_Current_City_Years</th>\n",
       "      <th>Marital_Status</th>\n",
       "      <th>Product_Category</th>\n",
       "      <th>Purchase</th>\n",
       "    </tr>\n",
       "  </thead>\n",
       "  <tbody>\n",
       "    <tr>\n",
       "      <th>0</th>\n",
       "      <td>1000001</td>\n",
       "      <td>P00069042</td>\n",
       "      <td>F</td>\n",
       "      <td>0-17</td>\n",
       "      <td>10</td>\n",
       "      <td>A</td>\n",
       "      <td>2</td>\n",
       "      <td>0</td>\n",
       "      <td>3</td>\n",
       "      <td>8370</td>\n",
       "    </tr>\n",
       "    <tr>\n",
       "      <th>1</th>\n",
       "      <td>1000001</td>\n",
       "      <td>P00248942</td>\n",
       "      <td>F</td>\n",
       "      <td>0-17</td>\n",
       "      <td>10</td>\n",
       "      <td>A</td>\n",
       "      <td>2</td>\n",
       "      <td>0</td>\n",
       "      <td>1</td>\n",
       "      <td>15200</td>\n",
       "    </tr>\n",
       "    <tr>\n",
       "      <th>2</th>\n",
       "      <td>1000001</td>\n",
       "      <td>P00087842</td>\n",
       "      <td>F</td>\n",
       "      <td>0-17</td>\n",
       "      <td>10</td>\n",
       "      <td>A</td>\n",
       "      <td>2</td>\n",
       "      <td>0</td>\n",
       "      <td>12</td>\n",
       "      <td>1422</td>\n",
       "    </tr>\n",
       "    <tr>\n",
       "      <th>3</th>\n",
       "      <td>1000001</td>\n",
       "      <td>P00085442</td>\n",
       "      <td>F</td>\n",
       "      <td>0-17</td>\n",
       "      <td>10</td>\n",
       "      <td>A</td>\n",
       "      <td>2</td>\n",
       "      <td>0</td>\n",
       "      <td>12</td>\n",
       "      <td>1057</td>\n",
       "    </tr>\n",
       "    <tr>\n",
       "      <th>4</th>\n",
       "      <td>1000002</td>\n",
       "      <td>P00285442</td>\n",
       "      <td>M</td>\n",
       "      <td>55+</td>\n",
       "      <td>16</td>\n",
       "      <td>C</td>\n",
       "      <td>4+</td>\n",
       "      <td>0</td>\n",
       "      <td>8</td>\n",
       "      <td>7969</td>\n",
       "    </tr>\n",
       "  </tbody>\n",
       "</table>\n",
       "</div>"
      ],
      "text/plain": [
       "   User_ID Product_ID Gender   Age Occupation City_Category  \\\n",
       "0  1000001  P00069042      F  0-17         10             A   \n",
       "1  1000001  P00248942      F  0-17         10             A   \n",
       "2  1000001  P00087842      F  0-17         10             A   \n",
       "3  1000001  P00085442      F  0-17         10             A   \n",
       "4  1000002  P00285442      M   55+         16             C   \n",
       "\n",
       "  Stay_In_Current_City_Years Marital_Status Product_Category  Purchase  \n",
       "0                          2              0                3      8370  \n",
       "1                          2              0                1     15200  \n",
       "2                          2              0               12      1422  \n",
       "3                          2              0               12      1057  \n",
       "4                         4+              0                8      7969  "
      ]
     },
     "execution_count": 34,
     "metadata": {},
     "output_type": "execute_result"
    }
   ],
   "source": [
    "df.head(5)"
   ]
  },
  {
   "cell_type": "code",
   "execution_count": 35,
   "id": "2fb34459",
   "metadata": {},
   "outputs": [],
   "source": [
    "DF = df.groupby([\"User_ID\"])[[\"Gender\",\"Age\",\"Occupation\",\"City_Category\",\"Stay_In_Current_City_Years\",\"Marital_Status\",\"Purchase\"]].aggregate({\"Gender\":\"first\",\"Age\":\"first\",\"Occupation\":\"first\",\"City_Category\":\"first\",\"Stay_In_Current_City_Years\":\"first\",\"Marital_Status\":\"first\",\"Purchase\":\"mean\"})"
   ]
  },
  {
   "cell_type": "code",
   "execution_count": 36,
   "id": "ce0caf9f",
   "metadata": {},
   "outputs": [
    {
     "data": {
      "text/html": [
       "<div>\n",
       "<style scoped>\n",
       "    .dataframe tbody tr th:only-of-type {\n",
       "        vertical-align: middle;\n",
       "    }\n",
       "\n",
       "    .dataframe tbody tr th {\n",
       "        vertical-align: top;\n",
       "    }\n",
       "\n",
       "    .dataframe thead th {\n",
       "        text-align: right;\n",
       "    }\n",
       "</style>\n",
       "<table border=\"1\" class=\"dataframe\">\n",
       "  <thead>\n",
       "    <tr style=\"text-align: right;\">\n",
       "      <th></th>\n",
       "      <th>Gender</th>\n",
       "      <th>Age</th>\n",
       "      <th>Occupation</th>\n",
       "      <th>City_Category</th>\n",
       "      <th>Stay_In_Current_City_Years</th>\n",
       "      <th>Marital_Status</th>\n",
       "      <th>Purchase</th>\n",
       "    </tr>\n",
       "    <tr>\n",
       "      <th>User_ID</th>\n",
       "      <th></th>\n",
       "      <th></th>\n",
       "      <th></th>\n",
       "      <th></th>\n",
       "      <th></th>\n",
       "      <th></th>\n",
       "      <th></th>\n",
       "    </tr>\n",
       "  </thead>\n",
       "  <tbody>\n",
       "    <tr>\n",
       "      <th>1000001</th>\n",
       "      <td>F</td>\n",
       "      <td>0-17</td>\n",
       "      <td>10</td>\n",
       "      <td>A</td>\n",
       "      <td>2</td>\n",
       "      <td>0</td>\n",
       "      <td>9545.514286</td>\n",
       "    </tr>\n",
       "    <tr>\n",
       "      <th>1000002</th>\n",
       "      <td>M</td>\n",
       "      <td>55+</td>\n",
       "      <td>16</td>\n",
       "      <td>C</td>\n",
       "      <td>4+</td>\n",
       "      <td>0</td>\n",
       "      <td>10525.610390</td>\n",
       "    </tr>\n",
       "    <tr>\n",
       "      <th>1000003</th>\n",
       "      <td>M</td>\n",
       "      <td>26-35</td>\n",
       "      <td>15</td>\n",
       "      <td>A</td>\n",
       "      <td>3</td>\n",
       "      <td>0</td>\n",
       "      <td>11780.517241</td>\n",
       "    </tr>\n",
       "    <tr>\n",
       "      <th>1000004</th>\n",
       "      <td>M</td>\n",
       "      <td>46-50</td>\n",
       "      <td>7</td>\n",
       "      <td>B</td>\n",
       "      <td>2</td>\n",
       "      <td>1</td>\n",
       "      <td>14747.714286</td>\n",
       "    </tr>\n",
       "    <tr>\n",
       "      <th>1000005</th>\n",
       "      <td>M</td>\n",
       "      <td>26-35</td>\n",
       "      <td>20</td>\n",
       "      <td>A</td>\n",
       "      <td>1</td>\n",
       "      <td>1</td>\n",
       "      <td>7745.292453</td>\n",
       "    </tr>\n",
       "    <tr>\n",
       "      <th>...</th>\n",
       "      <td>...</td>\n",
       "      <td>...</td>\n",
       "      <td>...</td>\n",
       "      <td>...</td>\n",
       "      <td>...</td>\n",
       "      <td>...</td>\n",
       "      <td>...</td>\n",
       "    </tr>\n",
       "    <tr>\n",
       "      <th>1006036</th>\n",
       "      <td>F</td>\n",
       "      <td>26-35</td>\n",
       "      <td>15</td>\n",
       "      <td>B</td>\n",
       "      <td>4+</td>\n",
       "      <td>1</td>\n",
       "      <td>8007.894942</td>\n",
       "    </tr>\n",
       "    <tr>\n",
       "      <th>1006037</th>\n",
       "      <td>F</td>\n",
       "      <td>46-50</td>\n",
       "      <td>1</td>\n",
       "      <td>C</td>\n",
       "      <td>4+</td>\n",
       "      <td>0</td>\n",
       "      <td>9176.540984</td>\n",
       "    </tr>\n",
       "    <tr>\n",
       "      <th>1006038</th>\n",
       "      <td>F</td>\n",
       "      <td>55+</td>\n",
       "      <td>1</td>\n",
       "      <td>C</td>\n",
       "      <td>2</td>\n",
       "      <td>0</td>\n",
       "      <td>7502.833333</td>\n",
       "    </tr>\n",
       "    <tr>\n",
       "      <th>1006039</th>\n",
       "      <td>F</td>\n",
       "      <td>46-50</td>\n",
       "      <td>0</td>\n",
       "      <td>B</td>\n",
       "      <td>4+</td>\n",
       "      <td>1</td>\n",
       "      <td>7977.283784</td>\n",
       "    </tr>\n",
       "    <tr>\n",
       "      <th>1006040</th>\n",
       "      <td>M</td>\n",
       "      <td>26-35</td>\n",
       "      <td>6</td>\n",
       "      <td>B</td>\n",
       "      <td>2</td>\n",
       "      <td>0</td>\n",
       "      <td>9184.994444</td>\n",
       "    </tr>\n",
       "  </tbody>\n",
       "</table>\n",
       "<p>5891 rows × 7 columns</p>\n",
       "</div>"
      ],
      "text/plain": [
       "        Gender    Age Occupation City_Category Stay_In_Current_City_Years  \\\n",
       "User_ID                                                                     \n",
       "1000001      F   0-17         10             A                          2   \n",
       "1000002      M    55+         16             C                         4+   \n",
       "1000003      M  26-35         15             A                          3   \n",
       "1000004      M  46-50          7             B                          2   \n",
       "1000005      M  26-35         20             A                          1   \n",
       "...        ...    ...        ...           ...                        ...   \n",
       "1006036      F  26-35         15             B                         4+   \n",
       "1006037      F  46-50          1             C                         4+   \n",
       "1006038      F    55+          1             C                          2   \n",
       "1006039      F  46-50          0             B                         4+   \n",
       "1006040      M  26-35          6             B                          2   \n",
       "\n",
       "        Marital_Status      Purchase  \n",
       "User_ID                               \n",
       "1000001              0   9545.514286  \n",
       "1000002              0  10525.610390  \n",
       "1000003              0  11780.517241  \n",
       "1000004              1  14747.714286  \n",
       "1000005              1   7745.292453  \n",
       "...                ...           ...  \n",
       "1006036              1   8007.894942  \n",
       "1006037              0   9176.540984  \n",
       "1006038              0   7502.833333  \n",
       "1006039              1   7977.283784  \n",
       "1006040              0   9184.994444  \n",
       "\n",
       "[5891 rows x 7 columns]"
      ]
     },
     "execution_count": 36,
     "metadata": {},
     "output_type": "execute_result"
    }
   ],
   "source": [
    "DF"
   ]
  },
  {
   "cell_type": "code",
   "execution_count": 37,
   "id": "3a8a922a",
   "metadata": {},
   "outputs": [
    {
     "data": {
      "text/plain": [
       "<AxesSubplot:xlabel='Purchase', ylabel='Gender'>"
      ]
     },
     "execution_count": 37,
     "metadata": {},
     "output_type": "execute_result"
    },
    {
     "data": {
      "image/png": "[encoded data removed]",
      "text/plain": [
       "<Figure size 1080x432 with 2 Axes>"
      ]
     },
     "metadata": {
      "needs_background": "light"
     },
     "output_type": "display_data"
    }
   ],
   "source": [
    "plt.figure(figsize=(15,6))\n",
    "plt.subplot(2,1,1)\n",
    "sns.histplot(data=DF, x=\"Purchase\", hue=\"Gender\", bins=50, kde=True)\n",
    "plt.subplot(2,1,2)\n",
    "sns.boxplot(data=DF, x=\"Purchase\", y=\"Gender\")"
   ]
  },
  {
   "cell_type": "markdown",
   "id": "0b6f5167",
   "metadata": {},
   "source": [
    "<mark><strong>Method 1 - CLT formula : 95% confidence interval for mean purchase</strong></mark>"
   ]
  },
  {
   "cell_type": "code",
   "execution_count": 38,
   "id": "9fba52f3",
   "metadata": {},
   "outputs": [
    {
     "data": {
      "text/html": [
       "<div>\n",
       "<style scoped>\n",
       "    .dataframe tbody tr th:only-of-type {\n",
       "        vertical-align: middle;\n",
       "    }\n",
       "\n",
       "    .dataframe tbody tr th {\n",
       "        vertical-align: top;\n",
       "    }\n",
       "\n",
       "    .dataframe thead th {\n",
       "        text-align: right;\n",
       "    }\n",
       "</style>\n",
       "<table border=\"1\" class=\"dataframe\">\n",
       "  <thead>\n",
       "    <tr style=\"text-align: right;\">\n",
       "      <th></th>\n",
       "      <th>count</th>\n",
       "      <th>mean</th>\n",
       "      <th>std</th>\n",
       "      <th>min</th>\n",
       "      <th>25%</th>\n",
       "      <th>50%</th>\n",
       "      <th>75%</th>\n",
       "      <th>max</th>\n",
       "    </tr>\n",
       "    <tr>\n",
       "      <th>Gender</th>\n",
       "      <th></th>\n",
       "      <th></th>\n",
       "      <th></th>\n",
       "      <th></th>\n",
       "      <th></th>\n",
       "      <th></th>\n",
       "      <th></th>\n",
       "      <th></th>\n",
       "    </tr>\n",
       "  </thead>\n",
       "  <tbody>\n",
       "    <tr>\n",
       "      <th>F</th>\n",
       "      <td>1666.0</td>\n",
       "      <td>8965.198464</td>\n",
       "      <td>1705.615508</td>\n",
       "      <td>3599.733333</td>\n",
       "      <td>7857.252965</td>\n",
       "      <td>8818.059311</td>\n",
       "      <td>9859.887613</td>\n",
       "      <td>18490.166667</td>\n",
       "    </tr>\n",
       "    <tr>\n",
       "      <th>M</th>\n",
       "      <td>4225.0</td>\n",
       "      <td>9806.867524</td>\n",
       "      <td>1906.396106</td>\n",
       "      <td>2318.733333</td>\n",
       "      <td>8552.733333</td>\n",
       "      <td>9681.895604</td>\n",
       "      <td>10933.852459</td>\n",
       "      <td>18577.893617</td>\n",
       "    </tr>\n",
       "  </tbody>\n",
       "</table>\n",
       "</div>"
      ],
      "text/plain": [
       "         count         mean          std          min          25%  \\\n",
       "Gender                                                               \n",
       "F       1666.0  8965.198464  1705.615508  3599.733333  7857.252965   \n",
       "M       4225.0  9806.867524  1906.396106  2318.733333  8552.733333   \n",
       "\n",
       "                50%           75%           max  \n",
       "Gender                                           \n",
       "F       8818.059311   9859.887613  18490.166667  \n",
       "M       9681.895604  10933.852459  18577.893617  "
      ]
     },
     "execution_count": 38,
     "metadata": {},
     "output_type": "execute_result"
    }
   ],
   "source": [
    "X = DF.groupby(['Gender'])['Purchase'].describe(); X"
   ]
  },
  {
   "cell_type": "code",
   "execution_count": 39,
   "id": "cbb08761",
   "metadata": {},
   "outputs": [
    {
     "data": {
      "text/plain": [
       "Index(['count', 'mean', 'std', 'min', '25%', '50%', '75%', 'max'], dtype='object')"
      ]
     },
     "execution_count": 39,
     "metadata": {},
     "output_type": "execute_result"
    }
   ],
   "source": [
    "X.columns"
   ]
  },
  {
   "cell_type": "code",
   "execution_count": 40,
   "id": "140a955c",
   "metadata": {},
   "outputs": [
    {
     "data": {
      "text/plain": [
       "1.959963984540054"
      ]
     },
     "execution_count": 40,
     "metadata": {},
     "output_type": "execute_result"
    }
   ],
   "source": [
    "#zscore for 95% confidence interval\n",
    "norm.ppf(0.975)"
   ]
  },
  {
   "cell_type": "code",
   "execution_count": 41,
   "id": "51474ee0",
   "metadata": {},
   "outputs": [
    {
     "data": {
      "text/plain": [
       "29.3291708572095"
      ]
     },
     "execution_count": 41,
     "metadata": {},
     "output_type": "execute_result"
    }
   ],
   "source": [
    "se_male = X.loc[\"M\",\"std\"]/np.sqrt(X.loc[\"M\",\"count\"]); se_male"
   ]
  },
  {
   "cell_type": "code",
   "execution_count": 42,
   "id": "767e3e2f",
   "metadata": {},
   "outputs": [
    {
     "data": {
      "text/plain": [
       "41.78723519231178"
      ]
     },
     "execution_count": 42,
     "metadata": {},
     "output_type": "execute_result"
    }
   ],
   "source": [
    "se_female = X.loc[\"F\",\"std\"]/np.sqrt(X.loc[\"F\",\"count\"]); se_female"
   ]
  },
  {
   "cell_type": "code",
   "execution_count": 43,
   "id": "8a8ae5c9",
   "metadata": {},
   "outputs": [
    {
     "name": "stdout",
     "output_type": "stream",
     "text": [
      "95% confidence interval for male mean purchase:  (9749.38340565008, 9864.351642803185)\n"
     ]
    }
   ],
   "source": [
    "male_lower_limit = X.loc[\"M\",\"mean\"]-norm.ppf(0.975)*se_male\n",
    "male_upper_limit = X.loc[\"M\",\"mean\"]+norm.ppf(0.975)*se_male\n",
    "interval_male = (male_lower_limit,male_upper_limit)\n",
    "print(\"95% confidence interval for male mean purchase: \", interval_male)"
   ]
  },
  {
   "cell_type": "code",
   "execution_count": 44,
   "id": "c4649433",
   "metadata": {},
   "outputs": [
    {
     "name": "stdout",
     "output_type": "stream",
     "text": [
      "95% confidence interval for female mean purchase:  (8883.29698794602, 9047.099939926893)\n"
     ]
    }
   ],
   "source": [
    "female_lower_limit = X.loc[\"F\",\"mean\"]-norm.ppf(0.975)*se_female\n",
    "female_upper_limit = X.loc[\"F\",\"mean\"]+norm.ppf(0.975)*se_female\n",
    "interval_female = (female_lower_limit,female_upper_limit)\n",
    "print(\"95% confidence interval for female mean purchase: \", interval_female)"
   ]
  },
  {
   "cell_type": "markdown",
   "id": "842852d6",
   "metadata": {},
   "source": [
    "<mark><strong>Method 2 - Bootstrapping : 95% confidence interval for mean purchase</strong></mark>"
   ]
  },
  {
   "cell_type": "code",
   "execution_count": 45,
   "id": "b4590adc",
   "metadata": {},
   "outputs": [
    {
     "data": {
      "text/plain": [
       "array([10525.61038961, 11780.51724138, 14747.71428571, ...,\n",
       "       13940.08333333, 16423.83333333,  9184.99444444])"
      ]
     },
     "execution_count": 45,
     "metadata": {},
     "output_type": "execute_result"
    }
   ],
   "source": [
    "male = DF[DF[\"Gender\"]==\"M\"][\"Purchase\"].values; male"
   ]
  },
  {
   "cell_type": "code",
   "execution_count": 46,
   "id": "306c2a82",
   "metadata": {},
   "outputs": [
    {
     "data": {
      "text/plain": [
       "array([9545.51428571, 8083.61702128, 9728.74439462, ..., 9176.54098361,\n",
       "       7502.83333333, 7977.28378378])"
      ]
     },
     "execution_count": 46,
     "metadata": {},
     "output_type": "execute_result"
    }
   ],
   "source": [
    "female = DF[DF[\"Gender\"]==\"F\"][\"Purchase\"].values; female"
   ]
  },
  {
   "cell_type": "code",
   "execution_count": 47,
   "id": "fdbc4cb3",
   "metadata": {},
   "outputs": [
    {
     "data": {
      "text/plain": [
       "[(4225,), (1666,)]"
      ]
     },
     "execution_count": 47,
     "metadata": {},
     "output_type": "execute_result"
    }
   ],
   "source": [
    "[male.shape,female.shape]"
   ]
  },
  {
   "cell_type": "markdown",
   "id": "365fdc63",
   "metadata": {},
   "source": [
    "<mark>resample_size_male:resample_size_female = 4225:1666</mark><br>\n",
    "<mark>resample_size $\\approx$ 100% of observed_sample_size</mark>"
   ]
  },
  {
   "cell_type": "code",
   "execution_count": 48,
   "id": "e2d6d5d2",
   "metadata": {},
   "outputs": [],
   "source": [
    "male_spends = [np.mean(random.choices(male, k=4225)) for i in range(1000)]"
   ]
  },
  {
   "cell_type": "code",
   "execution_count": 49,
   "id": "4393d48f",
   "metadata": {},
   "outputs": [],
   "source": [
    "female_spends = [np.mean(random.choices(female, k=1666)) for i in range(1000)]"
   ]
  },
  {
   "cell_type": "code",
   "execution_count": 50,
   "id": "919b06c8",
   "metadata": {
    "scrolled": true
   },
   "outputs": [
    {
     "data": {
      "text/plain": [
       "<AxesSubplot:title={'center':'FEMALE'}, ylabel='Count'>"
      ]
     },
     "execution_count": 50,
     "metadata": {},
     "output_type": "execute_result"
    },
    {
     "data": {
      "image/png": "[encoded data removed]",
      "text/plain": [
       "<Figure size 1080x288 with 2 Axes>"
      ]
     },
     "metadata": {
      "needs_background": "light"
     },
     "output_type": "display_data"
    }
   ],
   "source": [
    "plt.figure(figsize=(15,4))\n",
    "plt.subplot(1,2,1)\n",
    "plt.title(\"MALE\")\n",
    "sns.histplot(male_spends, bins=25, kde=True)\n",
    "plt.subplot(1,2,2)\n",
    "plt.title(\"FEMALE\")\n",
    "sns.histplot(female_spends, bins=25, kde=True)"
   ]
  },
  {
   "cell_type": "code",
   "execution_count": 51,
   "id": "e46e2d27",
   "metadata": {},
   "outputs": [
    {
     "data": {
      "text/plain": [
       "29.52753535491279"
      ]
     },
     "execution_count": 51,
     "metadata": {},
     "output_type": "execute_result"
    }
   ],
   "source": [
    "se_male = np.std(male_spends); se_male"
   ]
  },
  {
   "cell_type": "code",
   "execution_count": 52,
   "id": "12b4b8b3",
   "metadata": {},
   "outputs": [
    {
     "data": {
      "text/plain": [
       "41.66356518062466"
      ]
     },
     "execution_count": 52,
     "metadata": {},
     "output_type": "execute_result"
    }
   ],
   "source": [
    "se_female = np.std(female_spends); se_female"
   ]
  },
  {
   "cell_type": "code",
   "execution_count": 53,
   "id": "2ff77644",
   "metadata": {},
   "outputs": [
    {
     "name": "stdout",
     "output_type": "stream",
     "text": [
      "95% confidence interval for male:  ((9749.0971583368, 9864.842970032523), 9806.970064184661)\n"
     ]
    }
   ],
   "source": [
    "male_L_limit = np.mean(male_spends)-norm.ppf(0.975)*se_male\n",
    "male_U_limit = np.mean(male_spends)+norm.ppf(0.975)*se_male\n",
    "((male_L_limit, male_U_limit),np.mean(male_spends))\n",
    "print(\"95% confidence interval for male: \",((male_L_limit, male_U_limit),np.mean(male_spends)))"
   ]
  },
  {
   "cell_type": "code",
   "execution_count": 54,
   "id": "5f51940c",
   "metadata": {
    "scrolled": true
   },
   "outputs": [
    {
     "name": "stdout",
     "output_type": "stream",
     "text": [
      "95% confidence interval for female:  ((8885.884799650306, 9049.20297409343), 8967.543886871868)\n"
     ]
    }
   ],
   "source": [
    "female_L_limit = np.mean(female_spends)-norm.ppf(0.975)*se_female\n",
    "female_U_limit = np.mean(female_spends)+norm.ppf(0.975)*se_female\n",
    "((female_L_limit, female_U_limit),np.mean(female_spends))\n",
    "print(\"95% confidence interval for female: \",((female_L_limit, female_U_limit),np.mean(female_spends)))"
   ]
  },
  {
   "cell_type": "markdown",
   "id": "2589c84c",
   "metadata": {},
   "source": [
    "- <mark>Male and female mean purchase confidence interval is not overlapping</mark>\n",
    "- <mark>Male are spending more money per transaction than female</mark>"
   ]
  },
  {
   "cell_type": "markdown",
   "id": "11659706",
   "metadata": {},
   "source": [
    "# Unmarried vs Married"
   ]
  },
  {
   "cell_type": "code",
   "execution_count": 55,
   "id": "24ff9976",
   "metadata": {},
   "outputs": [
    {
     "data": {
      "text/plain": [
       "<AxesSubplot:xlabel='Purchase', ylabel='Marital_Status'>"
      ]
     },
     "execution_count": 55,
     "metadata": {},
     "output_type": "execute_result"
    },
    {
     "data": {
      "image/png": "[encoded data removed]",
      "text/plain": [
       "<Figure size 1080x432 with 2 Axes>"
      ]
     },
     "metadata": {
      "needs_background": "light"
     },
     "output_type": "display_data"
    }
   ],
   "source": [
    "plt.figure(figsize=(15,6))\n",
    "plt.subplot(2,1,1)\n",
    "sns.histplot(data=DF, x=\"Purchase\", hue=\"Marital_Status\", bins=50, kde=True)\n",
    "plt.subplot(2,1,2)\n",
    "sns.boxplot(data=DF, x=\"Purchase\", y=\"Marital_Status\")"
   ]
  },
  {
   "cell_type": "markdown",
   "id": "e5049b7b",
   "metadata": {},
   "source": [
    "<mark><strong>Method 1 - CLT formula : 95% confidence interval for mean purchase</strong></mark>"
   ]
  },
  {
   "cell_type": "code",
   "execution_count": 56,
   "id": "957ad17f",
   "metadata": {},
   "outputs": [
    {
     "data": {
      "text/html": [
       "<div>\n",
       "<style scoped>\n",
       "    .dataframe tbody tr th:only-of-type {\n",
       "        vertical-align: middle;\n",
       "    }\n",
       "\n",
       "    .dataframe tbody tr th {\n",
       "        vertical-align: top;\n",
       "    }\n",
       "\n",
       "    .dataframe thead th {\n",
       "        text-align: right;\n",
       "    }\n",
       "</style>\n",
       "<table border=\"1\" class=\"dataframe\">\n",
       "  <thead>\n",
       "    <tr style=\"text-align: right;\">\n",
       "      <th></th>\n",
       "      <th>count</th>\n",
       "      <th>mean</th>\n",
       "      <th>std</th>\n",
       "      <th>min</th>\n",
       "      <th>25%</th>\n",
       "      <th>50%</th>\n",
       "      <th>75%</th>\n",
       "      <th>max</th>\n",
       "    </tr>\n",
       "    <tr>\n",
       "      <th>Marital_Status</th>\n",
       "      <th></th>\n",
       "      <th></th>\n",
       "      <th></th>\n",
       "      <th></th>\n",
       "      <th></th>\n",
       "      <th></th>\n",
       "      <th></th>\n",
       "      <th></th>\n",
       "    </tr>\n",
       "  </thead>\n",
       "  <tbody>\n",
       "    <tr>\n",
       "      <th>0</th>\n",
       "      <td>3417.0</td>\n",
       "      <td>9564.407142</td>\n",
       "      <td>1877.332265</td>\n",
       "      <td>2318.733333</td>\n",
       "      <td>8331.857143</td>\n",
       "      <td>9376.844828</td>\n",
       "      <td>10657.730909</td>\n",
       "      <td>18577.893617</td>\n",
       "    </tr>\n",
       "    <tr>\n",
       "      <th>1</th>\n",
       "      <td>2474.0</td>\n",
       "      <td>9574.962299</td>\n",
       "      <td>1907.927002</td>\n",
       "      <td>3421.521739</td>\n",
       "      <td>8230.633143</td>\n",
       "      <td>9408.700535</td>\n",
       "      <td>10642.843137</td>\n",
       "      <td>18490.166667</td>\n",
       "    </tr>\n",
       "  </tbody>\n",
       "</table>\n",
       "</div>"
      ],
      "text/plain": [
       "                 count         mean          std          min          25%  \\\n",
       "Marital_Status                                                               \n",
       "0               3417.0  9564.407142  1877.332265  2318.733333  8331.857143   \n",
       "1               2474.0  9574.962299  1907.927002  3421.521739  8230.633143   \n",
       "\n",
       "                        50%           75%           max  \n",
       "Marital_Status                                           \n",
       "0               9376.844828  10657.730909  18577.893617  \n",
       "1               9408.700535  10642.843137  18490.166667  "
      ]
     },
     "execution_count": 56,
     "metadata": {},
     "output_type": "execute_result"
    }
   ],
   "source": [
    "X = DF.groupby(['Marital_Status'])['Purchase'].describe(); X"
   ]
  },
  {
   "cell_type": "code",
   "execution_count": 57,
   "id": "7bd22c16",
   "metadata": {},
   "outputs": [
    {
     "data": {
      "text/plain": [
       "Index(['count', 'mean', 'std', 'min', '25%', '50%', '75%', 'max'], dtype='object')"
      ]
     },
     "execution_count": 57,
     "metadata": {},
     "output_type": "execute_result"
    }
   ],
   "source": [
    "X.columns"
   ]
  },
  {
   "cell_type": "code",
   "execution_count": 58,
   "id": "abd61220",
   "metadata": {},
   "outputs": [
    {
     "data": {
      "text/plain": [
       "1.959963984540054"
      ]
     },
     "execution_count": 58,
     "metadata": {},
     "output_type": "execute_result"
    }
   ],
   "source": [
    "#zscore for 95% confidence interval\n",
    "norm.ppf(0.975)"
   ]
  },
  {
   "cell_type": "code",
   "execution_count": 63,
   "id": "fa2129a1",
   "metadata": {},
   "outputs": [
    {
     "data": {
      "text/plain": [
       "32.11579335486183"
      ]
     },
     "execution_count": 63,
     "metadata": {},
     "output_type": "execute_result"
    }
   ],
   "source": [
    "se_unmarried = X.loc[\"0\",\"std\"]/np.sqrt(X.loc[\"0\",\"count\"]); se_unmarried"
   ]
  },
  {
   "cell_type": "code",
   "execution_count": 64,
   "id": "a90c77cd",
   "metadata": {},
   "outputs": [
    {
     "data": {
      "text/plain": [
       "38.35852569852861"
      ]
     },
     "execution_count": 64,
     "metadata": {},
     "output_type": "execute_result"
    }
   ],
   "source": [
    "se_married = X.loc[\"1\",\"std\"]/np.sqrt(X.loc[\"1\",\"count\"]); se_married"
   ]
  },
  {
   "cell_type": "code",
   "execution_count": 66,
   "id": "019be0ad",
   "metadata": {},
   "outputs": [
    {
     "name": "stdout",
     "output_type": "stream",
     "text": [
      "95% confidence interval for unmarried mean purchase:  (9501.461343325827, 9627.352939946748)\n"
     ]
    }
   ],
   "source": [
    "unmarried_lower_limit = X.loc[\"0\",\"mean\"]-norm.ppf(0.975)*se_unmarried\n",
    "unmarried_upper_limit = X.loc[\"0\",\"mean\"]+norm.ppf(0.975)*se_unmarried\n",
    "interval_unmarried = (unmarried_lower_limit,unmarried_upper_limit)\n",
    "print(\"95% confidence interval for unmarried mean purchase: \", interval_unmarried)"
   ]
  },
  {
   "cell_type": "code",
   "execution_count": 67,
   "id": "f9967438",
   "metadata": {},
   "outputs": [
    {
     "name": "stdout",
     "output_type": "stream",
     "text": [
      "95% confidence interval for married mean purchase:  (9499.78097016258, 9650.14362790092)\n"
     ]
    }
   ],
   "source": [
    "married_lower_limit = X.loc[\"1\",\"mean\"]-norm.ppf(0.975)*se_married\n",
    "married_upper_limit = X.loc[\"1\",\"mean\"]+norm.ppf(0.975)*se_married\n",
    "interval_married = (married_lower_limit,married_upper_limit)\n",
    "print(\"95% confidence interval for married mean purchase: \", interval_married)"
   ]
  },
  {
   "cell_type": "markdown",
   "id": "d7033219",
   "metadata": {},
   "source": [
    "<mark><strong>Method 2 - Bootstrapping : 95% confidence interval for mean purchase</strong></mark>"
   ]
  },
  {
   "cell_type": "code",
   "execution_count": 68,
   "id": "16d50dec",
   "metadata": {},
   "outputs": [
    {
     "data": {
      "text/plain": [
       "array([ 9545.51428571, 10525.61038961, 11780.51724138, ...,\n",
       "        9176.54098361,  7502.83333333,  9184.99444444])"
      ]
     },
     "execution_count": 68,
     "metadata": {},
     "output_type": "execute_result"
    }
   ],
   "source": [
    "unmarried = DF[DF[\"Marital_Status\"]==\"0\"][\"Purchase\"].values; unmarried"
   ]
  },
  {
   "cell_type": "code",
   "execution_count": 69,
   "id": "185093da",
   "metadata": {},
   "outputs": [
    {
     "data": {
      "text/plain": [
       "array([14747.71428571,  7745.29245283, 13804.        , ...,\n",
       "       13940.08333333,  8007.89494163,  7977.28378378])"
      ]
     },
     "execution_count": 69,
     "metadata": {},
     "output_type": "execute_result"
    }
   ],
   "source": [
    "married = DF[DF[\"Marital_Status\"]==\"1\"][\"Purchase\"].values; married"
   ]
  },
  {
   "cell_type": "code",
   "execution_count": 70,
   "id": "14b8eb83",
   "metadata": {},
   "outputs": [
    {
     "data": {
      "text/plain": [
       "[(3417,), (2474,)]"
      ]
     },
     "execution_count": 70,
     "metadata": {},
     "output_type": "execute_result"
    }
   ],
   "source": [
    "[unmarried.shape,married.shape]"
   ]
  },
  {
   "cell_type": "markdown",
   "id": "f32abe3c",
   "metadata": {},
   "source": [
    "<mark>resample_size_umarried:resample_size_married = 3417:2474</mark><br>\n",
    "<mark>resample_size $\\approx$ 100% of observed_sample_size</mark>"
   ]
  },
  {
   "cell_type": "code",
   "execution_count": 74,
   "id": "5b150424",
   "metadata": {},
   "outputs": [],
   "source": [
    "unmarried_spends = [np.mean(random.choices(unmarried, k=3417)) for i in range(1000)]"
   ]
  },
  {
   "cell_type": "code",
   "execution_count": 77,
   "id": "08bcbe28",
   "metadata": {},
   "outputs": [],
   "source": [
    "married_spends = [np.mean(random.choices(married, k=2474)) for i in range(1000)]"
   ]
  },
  {
   "cell_type": "code",
   "execution_count": 78,
   "id": "e5bbbf83",
   "metadata": {},
   "outputs": [
    {
     "data": {
      "text/plain": [
       "<AxesSubplot:title={'center':'MARRIED'}, ylabel='Count'>"
      ]
     },
     "execution_count": 78,
     "metadata": {},
     "output_type": "execute_result"
    },
    {
     "data": {
      "image/png": "[encoded data removed]",
      "text/plain": [
       "<Figure size 1080x288 with 2 Axes>"
      ]
     },
     "metadata": {
      "needs_background": "light"
     },
     "output_type": "display_data"
    }
   ],
   "source": [
    "plt.figure(figsize=(15,4))\n",
    "plt.subplot(1,2,1)\n",
    "plt.title(\"UNMARRIED\")\n",
    "sns.histplot(unmarried_spends, bins=25, kde=True)\n",
    "plt.subplot(1,2,2)\n",
    "plt.title(\"MARRIED\")\n",
    "sns.histplot(married_spends, bins=25, kde=True)"
   ]
  },
  {
   "cell_type": "code",
   "execution_count": 79,
   "id": "1db239e2",
   "metadata": {},
   "outputs": [
    {
     "data": {
      "text/plain": [
       "33.858307494273376"
      ]
     },
     "execution_count": 79,
     "metadata": {},
     "output_type": "execute_result"
    }
   ],
   "source": [
    "se_unmarried = np.std(unmarried_spends); se_unmarried"
   ]
  },
  {
   "cell_type": "code",
   "execution_count": 80,
   "id": "e70c8e6c",
   "metadata": {},
   "outputs": [
    {
     "data": {
      "text/plain": [
       "38.93968968962186"
      ]
     },
     "execution_count": 80,
     "metadata": {},
     "output_type": "execute_result"
    }
   ],
   "source": [
    "se_married = np.std(married_spends); se_married"
   ]
  },
  {
   "cell_type": "code",
   "execution_count": 81,
   "id": "d07a3de5",
   "metadata": {},
   "outputs": [
    {
     "name": "stdout",
     "output_type": "stream",
     "text": [
      "95% confidence interval for unmarried:  ((9497.076890398375, 9629.799016930892), 9563.437953664634)\n"
     ]
    }
   ],
   "source": [
    "unmarried_L_limit = np.mean(unmarried_spends)-norm.ppf(0.975)*se_unmarried\n",
    "unmarried_U_limit = np.mean(unmarried_spends)+norm.ppf(0.975)*se_unmarried\n",
    "((unmarried_L_limit, unmarried_U_limit),np.mean(unmarried_spends))\n",
    "print(\"95% confidence interval for unmarried: \",((unmarried_L_limit, unmarried_U_limit),np.mean(unmarried_spends)))"
   ]
  },
  {
   "cell_type": "code",
   "execution_count": 82,
   "id": "2b28062c",
   "metadata": {},
   "outputs": [
    {
     "name": "stdout",
     "output_type": "stream",
     "text": [
      "95% confidence interval for married:  ((9499.240040657982, 9651.88081937963), 9575.560430018806)\n"
     ]
    }
   ],
   "source": [
    "married_L_limit = np.mean(married_spends)-norm.ppf(0.975)*se_married\n",
    "married_U_limit = np.mean(married_spends)+norm.ppf(0.975)*se_married\n",
    "((married_L_limit, married_U_limit),np.mean(married_spends))\n",
    "print(\"95% confidence interval for married: \",((married_L_limit, married_U_limit),np.mean(married_spends)))"
   ]
  },
  {
   "cell_type": "markdown",
   "id": "763afe03",
   "metadata": {},
   "source": [
    "- <mark>Married and Unmarried purchase confidence interval is overlapping</mark>\n",
    "- <mark>Married and Unmarried have same/similar spending range </mark>"
   ]
  },
  {
   "cell_type": "markdown",
   "id": "fec0d39e",
   "metadata": {},
   "source": [
    "# Analysis Results\n",
    " - <strong>Q1. Are women spending more money per transaction than men? Why or Why not?</strong>\n",
    "  - <mark>No women are not spending more money per transaction than men. Infact men are spending more money per transaction than women</mark>\n",
    " - <strong>Q2. Confidence intervals and distribution of the mean of the expenses by female and male customers</strong>\n",
    "  - <mark>95% confidence interval of male mean purchase: (9749.0971583368, 9864.842970032523)</mark>\n",
    "  - <mark>95% confidence interval of female mean purchase: (8885.884799650306, 9049.20297409343)</mark>\n",
    " - <strong>Q3. Are confidence intervals of average male and female spending overlapping? How can Walmart leverage this conclusion to make changes or improvements?</strong>\n",
    "  - <mark>No, confidence interval of male and female mean purchase is not overlapping</mark>\n",
    "  - <mark>Male are spending more money per transaction than female</mark>\n",
    " - <strong>Q4. Analysis on Married vs Unmarried</strong>\n",
    "  - <mark>95% confidence interval for unmarried:  (9497.076890398375, 9629.799016930892)</mark>\n",
    "  - <mark>95% confidence interval for married:    (9499.240040657982, 9651.88081937963)</mark>\n",
    "  - <mark>Married and Unmarried have same/similar spending range </mark>"
   ]
  },
  {
   "cell_type": "code",
   "execution_count": null,
   "id": "2b7f385b",
   "metadata": {},
   "outputs": [],
   "source": []
  }
 ],
 "metadata": {
  "kernelspec": {
   "display_name": "Python 3 (ipykernel)",
   "language": "python",
   "name": "python3"
  },
  "language_info": {
   "codemirror_mode": {
    "name": "ipython",
    "version": 3
   },
   "file_extension": ".py",
   "mimetype": "text/x-python",
   "name": "python",
   "nbconvert_exporter": "python",
   "pygments_lexer": "ipython3",
   "version": "3.9.12"
  }
 },
 "nbformat": 4,
 "nbformat_minor": 5
}
